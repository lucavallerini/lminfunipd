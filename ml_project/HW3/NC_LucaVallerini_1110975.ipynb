{
 "cells": [
  {
   "cell_type": "markdown",
   "metadata": {},
   "source": [
    "## HOMEWORK #3\n",
    "\n",
    "### Non linear models for classification \n",
    "\n",
    "In this notebook we are going to explore the use of SVM and Neural Networks (NNs) for image classification. We are going to use the famous MNIST dataset, that is a dataset of handwritten digits. We get the data from mldata.org, that is a public repository for machine learning data.\n",
    "\n",
    "The dataset consists of 70,000 images of handwritten digits (i.e., 0, 1, ... 9). Each image is 28 pixels by 28 pixels and we can think of it as a vector of 28x28 = 784 numbers. Each number is an integer between 0 and 255. For each image we have the corresponding label (i.e., 0, 1, ..., 9)."
   ]
  },
  {
   "cell_type": "code",
   "execution_count": 1,
   "metadata": {
    "collapsed": true
   },
   "outputs": [],
   "source": [
    "#load the required packages\n",
    "\n",
    "%matplotlib inline  \n",
    "\n",
    "import numpy as np\n",
    "import scipy as sp\n",
    "import matplotlib.pyplot as plt\n",
    "\n",
    "import sklearn\n",
    "from sklearn.datasets import fetch_mldata\n",
    "from sklearn.neural_network import MLPClassifier"
   ]
  },
  {
   "cell_type": "markdown",
   "metadata": {},
   "source": [
    "## TO DO 0"
   ]
  },
  {
   "cell_type": "code",
   "execution_count": 2,
   "metadata": {
    "collapsed": true
   },
   "outputs": [],
   "source": [
    "#fix your ID (\"numero di matricola\") and the seed for random generator\n",
    "ID = 1110975\n",
    "np.random.seed(ID)"
   ]
  },
  {
   "cell_type": "markdown",
   "metadata": {},
   "source": [
    "Now let's load the dataset. 'data' contains the input, 'target' contains the label. We normalize the data by dividing each value by 255 so that each value is in [0,1]"
   ]
  },
  {
   "cell_type": "code",
   "execution_count": 3,
   "metadata": {
    "collapsed": true
   },
   "outputs": [],
   "source": [
    "#load the MNIST dataset and let's normalize the features so that each value is in [0,1]\n",
    "mnist = fetch_mldata(\"MNIST original\")\n",
    "# rescale the data\n",
    "X, y = mnist.data / 255., mnist.target"
   ]
  },
  {
   "cell_type": "markdown",
   "metadata": {},
   "source": [
    "Now we split into training and test. Make sure that each label is present at least 10 times\n",
    "in training. If it is not, then keep adding permutations to the initial data until this \n",
    "happens."
   ]
  },
  {
   "cell_type": "code",
   "execution_count": 4,
   "metadata": {},
   "outputs": [
    {
     "name": "stdout",
     "output_type": "stream",
     "text": [
      "Labels and frequencies in training dataset: \n"
     ]
    },
    {
     "data": {
      "text/plain": [
       "array([[  0.,  41.],\n",
       "       [  1.,  67.],\n",
       "       [  2.,  51.],\n",
       "       [  3.,  52.],\n",
       "       [  4.,  47.],\n",
       "       [  5.,  41.],\n",
       "       [  6.,  50.],\n",
       "       [  7.,  58.],\n",
       "       [  8.,  50.],\n",
       "       [  9.,  43.]])"
      ]
     },
     "execution_count": 4,
     "metadata": {},
     "output_type": "execute_result"
    }
   ],
   "source": [
    "#random permute the data and split into training and test taking the first 500\n",
    "#data samples as training and the rests as test\n",
    "permutation = np.random.permutation(X.shape[0])\n",
    "\n",
    "X = X[permutation]\n",
    "y = y[permutation]\n",
    "\n",
    "m_training = 500\n",
    "\n",
    "X_train, X_test = X[:m_training], X[m_training:]\n",
    "y_train, y_test = y[:m_training], y[m_training:]\n",
    "\n",
    "print(\"Labels and frequencies in training dataset: \")\n",
    "sp.stats.itemfreq(y_train)"
   ]
  },
  {
   "cell_type": "markdown",
   "metadata": {},
   "source": [
    "We now provide a function to print an image in a dataset, the corresponding true label, and the index of the image in the dataset."
   ]
  },
  {
   "cell_type": "code",
   "execution_count": 5,
   "metadata": {
    "collapsed": true
   },
   "outputs": [],
   "source": [
    "#function for plotting a digit and printing the corresponding label\n",
    "def plot_digit(X_matrix, labels, index):\n",
    "    print(\"INPUT:\")\n",
    "    plt.imshow(\n",
    "        X_matrix[index].reshape(28,28),\n",
    "        cmap          = plt.cm.gray_r,\n",
    "        interpolation = \"nearest\"\n",
    "    )\n",
    "    plt.show()\n",
    "    print(\"LABEL: %i\"%labels[index])\n",
    "    return"
   ]
  },
  {
   "cell_type": "markdown",
   "metadata": {},
   "source": [
    "As an example, let's print the 100-th image in X_train and the 40,000-th image in X_test and their true labels."
   ]
  },
  {
   "cell_type": "code",
   "execution_count": 6,
   "metadata": {},
   "outputs": [
    {
     "name": "stdout",
     "output_type": "stream",
     "text": [
      "INPUT:\n"
     ]
    },
    {
     "data": {
      "image/png": "[encoded data removed]",
      "text/plain": [
       "<matplotlib.figure.Figure at 0x7f306c943b90>"
      ]
     },
     "metadata": {},
     "output_type": "display_data"
    },
    {
     "name": "stdout",
     "output_type": "stream",
     "text": [
      "LABEL: 0\n",
      "INPUT:\n"
     ]
    },
    {
     "data": {
      "image/png": "[encoded data removed]",
      "text/plain": [
       "<matplotlib.figure.Figure at 0x7f3094107bd0>"
      ]
     },
     "metadata": {},
     "output_type": "display_data"
    },
    {
     "name": "stdout",
     "output_type": "stream",
     "text": [
      "LABEL: 8\n"
     ]
    }
   ],
   "source": [
    "#let's try the plotting function\n",
    "plot_digit(X_train,y_train,100)\n",
    "plot_digit(X_test,y_test,40000)"
   ]
  },
  {
   "cell_type": "markdown",
   "metadata": {},
   "source": [
    "## TO DO 1\n",
    "Run SVM with cross validation to pick a kernel and values of parameters. Use a 5-fold cross-validation to pick the best kernel and choice of parameters. We provide some potential choice for parameters, but change the grid if needed (e.g., it takes too long). For the SVM for classificarion use SVC from sklearn.svm; for the grid search we suggest you use GridSearchCV from sklearn.model_selection, but you can implement your own cross-validation for model selection if you prefer.\n",
    "\n",
    "Print the best parameters used as well as the best score obtained by the ``optimal'' model"
   ]
  },
  {
   "cell_type": "code",
   "execution_count": 18,
   "metadata": {},
   "outputs": [
    {
     "name": "stdout",
     "output_type": "stream",
     "text": [
      "RESULTS FOR LINEAR KERNEL\n",
      "\n",
      "Best parameters set found:\n",
      "{'C': 1}\n",
      "Score with best parameters:\n",
      "0.818\n",
      "\n",
      "All scores on the grid:\n",
      "[ 0.818  0.818  0.818]\n",
      "\n",
      "RESULTS FOR POLY DEGREE=2 KERNEL\n",
      "\n",
      "Best parameters set found:\n",
      "{'C': 1, 'gamma': 0.1}\n",
      "Score with best parameters:\n",
      "0.824\n",
      "\n",
      "All scores on the grid:\n",
      "[ 0.792  0.824  0.824  0.824  0.824  0.824  0.824  0.824  0.824]\n",
      "\n",
      "RESULTS FOR rbf KERNEL\n",
      "\n",
      "Best parameters set found:\n",
      "{'C': 10, 'gamma': 0.01}\n",
      "Score with best parameters:\n",
      "0.86\n",
      "\n",
      "All scores on the grid:\n",
      "[ 0.848  0.59   0.134  0.86   0.612  0.134  0.86   0.612  0.134]\n"
     ]
    }
   ],
   "source": [
    "#import SVC\n",
    "from sklearn.svm import SVC\n",
    "#import for Cross-Validation\n",
    "from sklearn.model_selection import GridSearchCV\n",
    "\n",
    "# best parameters for SVM with different kernel\n",
    "# index 0: linear, index 1: polynomial, index 2: RBF\n",
    "best_params_SVM = [] \n",
    "\n",
    "# parameters for linear SVM\n",
    "parameters = {'C': [1, 10, 100]}\n",
    "\n",
    "#run linear SVM\n",
    "linear_SVM = SVC(kernel='linear')\n",
    "\n",
    "### FIT MODEL USING 5-fold CV\n",
    "cv_linear = GridSearchCV(linear_SVM, parameters, cv=5)\n",
    "cv_linear.fit(X_train, y_train)\n",
    "best_params_SVM.append([cv_linear.best_score_, cv_linear.best_params_, 'linear'])\n",
    "\n",
    "print ('RESULTS FOR LINEAR KERNEL\\n')\n",
    "print(\"Best parameters set found:\")\n",
    "print cv_linear.best_params_\n",
    "print(\"Score with best parameters:\")\n",
    "print cv_linear.best_score_ \n",
    "print(\"\\nAll scores on the grid:\")\n",
    "print cv_linear.cv_results_['mean_test_score']\n",
    "\n",
    "# parameters for poly with degree 2 kernel\n",
    "parameters = {'C': [1, 10, 100],'gamma':[0.01,0.1,1.]}\n",
    "\n",
    "#run SVM with poly of degree 2 kernel\n",
    "poly2_SVM = SVC(kernel='poly',degree=2)\n",
    "\n",
    "### DO THE SAME AS ABOVE FOR POLYNOMIAL KERNEL WITH DEGREE=2\n",
    "cv_poly = GridSearchCV(poly2_SVM, parameters, cv=5)\n",
    "cv_poly.fit(X_train, y_train)\n",
    "best_params_SVM.append([cv_poly.best_score_, cv_poly.best_params_, 'poly'])\n",
    "\n",
    "print ('\\nRESULTS FOR POLY DEGREE=2 KERNEL\\n')\n",
    "print(\"Best parameters set found:\")\n",
    "print cv_poly.best_params_\n",
    "print(\"Score with best parameters:\")\n",
    "print cv_poly.best_score_\n",
    "print(\"\\nAll scores on the grid:\")\n",
    "print cv_poly.cv_results_['mean_test_score']\n",
    "\n",
    "# parameters for rbf SVM\n",
    "parameters = {'C': [1, 10, 100],'gamma':[0.01,0.1,1.]}\n",
    "\n",
    "#run SVM with rbf kernel\n",
    "rbf_SVM = SVC(kernel='rbf')\n",
    "### ADD CODE: FIT MODEL USING 5-fold CV\n",
    "cv_rbf = GridSearchCV(rbf_SVM, parameters, cv=5)\n",
    "cv_rbf.fit(X_train, y_train)\n",
    "best_params_SVM.append([cv_rbf.best_score_, cv_rbf.best_params_, 'rbf'])\n",
    "\n",
    "print ('\\nRESULTS FOR rbf KERNEL\\n')\n",
    "print(\"Best parameters set found:\")\n",
    "print cv_rbf.best_params_\n",
    "print(\"Score with best parameters:\")\n",
    "print cv_rbf.best_score_\n",
    "print(\"\\nAll scores on the grid:\")\n",
    "print cv_rbf.cv_results_['mean_test_score']"
   ]
  },
  {
   "cell_type": "markdown",
   "metadata": {},
   "source": [
    "## TO DO 2\n",
    "For the \"best\" SVM kernel and choice of parameters from above, train the model on the entire training set and measure the training error. Also make predictions on the test set and measure the test error. Print the training and the test error."
   ]
  },
  {
   "cell_type": "code",
   "execution_count": 23,
   "metadata": {},
   "outputs": [
    {
     "name": "stdout",
     "output_type": "stream",
     "text": [
      "{'kernel': 'rbf', 'C': 10, 'gamma': 0.01}\n",
      "Best SVM training error: 0.000000\n",
      "Best SVM test error: 0.109928\n"
     ]
    }
   ],
   "source": [
    "# retrieve the parameters for the best SVM model from CV\n",
    "best_score, best_index = 0., 0\n",
    "for i in range(len(best_params_SVM)):\n",
    "    if best_params_SVM[i][0] > best_score:\n",
    "        best_score = best_params_SVM[i][0]\n",
    "        best_index = i\n",
    "        \n",
    "best_parameters = {}\n",
    "best_parameters = best_params_SVM[best_index][1]\n",
    "best_parameters['kernel'] = best_params_SVM[best_index][2] \n",
    "\n",
    "# get training and test error for the best SVM model from CV\n",
    "best_SVM = SVC(best_parameters)\n",
    "best_SVM.fit(X_train, y_train)\n",
    "\n",
    "training_error = 1. - best_SVM.score(X_train,y_train)\n",
    "test_error = 1. - best_SVM.score(X_test,y_test)\n",
    "\n",
    "print (\"Best SVM training error: %f\" % training_error)\n",
    "print (\"Best SVM test error: %f\" % test_error)"
   ]
  },
  {
   "cell_type": "markdown",
   "metadata": {},
   "source": [
    "### TO DO 3\n",
    "Now we use feed-forward neural networks for classification. You can use the Multi-Layer-Perceptron (the feedforward/multilayer structure we have seen in class, see http://scikit-learn.org/stable/modules/neural_networks_supervised.html).\n",
    "\n",
    "Note that we fix the starting random state so to make the runs reproducible. Use max_iter=20, alpha=1e-4, solver='sgd', tol=1e-4, learning_rate_init=.1. Pick few architectures and use the default activation function (ReLU).\n",
    "\n",
    "REMARK: For solver ‘sgd’ max_iter determines the number of epochs (how many times each data point will be used), not the number of gradient steps."
   ]
  },
  {
   "cell_type": "code",
   "execution_count": 24,
   "metadata": {},
   "outputs": [
    {
     "name": "stderr",
     "output_type": "stream",
     "text": [
      "/home/luca/anaconda2/lib/python2.7/site-packages/sklearn/neural_network/multilayer_perceptron.py:564: ConvergenceWarning: Stochastic Optimizer: Maximum iterations (20) reached and the optimization hasn't converged yet.\n",
      "  % self.max_iter, ConvergenceWarning)\n"
     ]
    },
    {
     "name": "stdout",
     "output_type": "stream",
     "text": [
      "\n",
      "RESULTS FOR NN\n",
      "\n",
      "Best parameters set found:\n",
      "{'hidden_layer_sizes': (50,)}\n",
      "Score with best parameters:\n",
      "0.67\n",
      "\n",
      "All scores on the grid:\n",
      "[ 0.504  0.67   0.424  0.564]\n"
     ]
    }
   ],
   "source": [
    "# test different architectures: \n",
    "# - 1 hidden layer with 10 nodes, \n",
    "# - 1 hidden layer with 50 nodes, \n",
    "# - 2 hidden layer with 10 nodes each, \n",
    "# - 2 hidden layer with 50 nodes each\n",
    "# feel free to change this and test more/different  structures\n",
    "\n",
    "parameters = {'hidden_layer_sizes': [(10,), (50,), (10,10,), (50,50,)]}\n",
    "\n",
    "mlp = MLPClassifier(max_iter=20, alpha=1e-4,\n",
    "                    solver='sgd', tol=1e-4, random_state=ID,\n",
    "                    learning_rate_init=.1)\n",
    "\n",
    "# ADD CODE: TRAIN NN & FIND BEST STRUCTURE (HYDDEN LAYER SIZE) USING 5-FOLD CV\n",
    "cv_nn = GridSearchCV(mlp, parameters, cv=5)\n",
    "cv_nn.fit(X_train, y_train)\n",
    "\n",
    "print ('\\nRESULTS FOR NN\\n')\n",
    "print(\"Best parameters set found:\")\n",
    "print cv_nn.best_params_\n",
    "print(\"Score with best parameters:\")\n",
    "print cv_nn.best_score_\n",
    "print(\"\\nAll scores on the grid:\")\n",
    "print cv_nn.cv_results_['mean_test_score']"
   ]
  },
  {
   "cell_type": "markdown",
   "metadata": {},
   "source": [
    "## TO DO 4\n",
    "\n",
    "Now get training and test error for a NN with best parameters from above. Use verbose=True\n",
    "in input so to see how loss changes in iterations (see how this changs if the number of iterations is changed)"
   ]
  },
  {
   "cell_type": "code",
   "execution_count": 28,
   "metadata": {},
   "outputs": [
    {
     "name": "stdout",
     "output_type": "stream",
     "text": [
      "Iteration 1, loss = 2.23201842\n",
      "Iteration 2, loss = 1.71665673\n",
      "Iteration 3, loss = 1.11738868\n",
      "Iteration 4, loss = 0.72773522\n",
      "Iteration 5, loss = 0.52198125\n",
      "Iteration 6, loss = 0.42569321\n",
      "Iteration 7, loss = 0.34290507\n",
      "Iteration 8, loss = 0.30266387\n",
      "Iteration 9, loss = 0.24538060\n",
      "Iteration 10, loss = 0.20705682\n",
      "Iteration 11, loss = 0.16862676\n",
      "Iteration 12, loss = 0.14460576\n",
      "Iteration 13, loss = 0.12528509\n",
      "Iteration 14, loss = 0.09712119\n",
      "Iteration 15, loss = 0.08414897\n",
      "Iteration 16, loss = 0.07293109\n",
      "Iteration 17, loss = 0.06166876\n",
      "Iteration 18, loss = 0.05531551\n",
      "Iteration 19, loss = 0.04767693\n",
      "Iteration 20, loss = 0.04313744\n",
      "\n",
      "RESULTS FOR BEST NN\n",
      "\n",
      "Best NN training error: 0.002000\n",
      "Best NN test error: 0.159237\n"
     ]
    }
   ],
   "source": [
    "# get training and test error for the best NN model from CV\n",
    "parameters_nn = {'max_iter': 20, 'alpha': 1e-4, 'hidden_layer_sizes': cv_nn.best_params_['hidden_layer_sizes'],\n",
    "                    'solver': 'sgd', 'tol': 1e-4, 'random_state': ID, 'learning_rate_init': .1, 'verbose': True}\n",
    "mlp = MLPClassifier(**parameters_nn) \n",
    "\n",
    "# ADD CODE: FIT MODEL & COMPUTE TRAINING AND TEST ERRORS\n",
    "mlp.fit(X_train, y_train)\n",
    "\n",
    "training_error = 1. - mlp.score(X_train, y_train)\n",
    "test_error = 1. - mlp.score(X_test, y_test)\n",
    "\n",
    "print ('\\nRESULTS FOR BEST NN\\n')\n",
    "\n",
    "print (\"Best NN training error: %f\" % training_error)\n",
    "print (\"Best NN test error: %f\" % test_error)"
   ]
  },
  {
   "cell_type": "markdown",
   "metadata": {},
   "source": [
    "## TO DO 5 \n",
    "According to the cross-validation results, would you choose SVMs or NNs when 500 data points are available for training? Is this a good choice, given the results on the test set?\n",
    "\n",
    "### ANSWER \n",
    "Based on the results on cross-validation I would choose SVM since it scores better (with all kernels too). Also, given the results from the test set, SVM achieves a lower error than NN.\n",
    "\n",
    "Note: these results may change based on the actual data in the training and test set. On different trials NN performed better with lower test error than SVM. Nonetheless, SVM had always achieved a better score."
   ]
  },
  {
   "cell_type": "markdown",
   "metadata": {},
   "source": [
    "## TO DO  6\n",
    "For the sake of illustration, find and plot  (using function $plot\\_digit$ from above)  a digit that is missclassified by NN and correctly classified by SVM."
   ]
  },
  {
   "cell_type": "code",
   "execution_count": 29,
   "metadata": {},
   "outputs": [
    {
     "name": "stdout",
     "output_type": "stream",
     "text": [
      "INPUT:\n"
     ]
    },
    {
     "data": {
      "image/png": "[encoded data removed]",
      "text/plain": [
       "<matplotlib.figure.Figure at 0x7f306221e490>"
      ]
     },
     "metadata": {},
     "output_type": "display_data"
    },
    {
     "name": "stdout",
     "output_type": "stream",
     "text": [
      "LABEL: 5\n",
      "('SVM prediction: ', 5.0)\n",
      "('NN prediction: ', 9.0)\n"
     ]
    }
   ],
   "source": [
    "SVM_prediction = best_SVM.predict(X_test)\n",
    "NN_prediction = mlp.predict(X_test)\n",
    "i = 0\n",
    "found = False\n",
    "while ((not found) and (i<len(y_test))):\n",
    "    if (SVM_prediction[i] == y_test[i]) and (NN_prediction[i] != y_test[i]):\n",
    "        plot_digit(X_test, y_test, i)\n",
    "        print(\"SVM prediction: \", SVM_prediction[i])\n",
    "        print(\"NN prediction: \",NN_prediction[i])\n",
    "        found = True\n",
    "    else:\n",
    "        i += 1"
   ]
  },
  {
   "cell_type": "markdown",
   "metadata": {},
   "source": [
    "## TO DO 7 (more data)\n",
    "\n",
    "Now let's do the same but using 60000 data points for training. For SVM we are only going to use the best model we got using 500 data points. For NNs we use the same architectures as before, but you can try more if you want!"
   ]
  },
  {
   "cell_type": "code",
   "execution_count": 30,
   "metadata": {},
   "outputs": [
    {
     "name": "stdout",
     "output_type": "stream",
     "text": [
      "Labels and frequencies in training dataset: \n"
     ]
    },
    {
     "data": {
      "text/plain": [
       "array([[  0.00000000e+00,   5.91400000e+03],\n",
       "       [  1.00000000e+00,   6.77500000e+03],\n",
       "       [  2.00000000e+00,   5.99800000e+03],\n",
       "       [  3.00000000e+00,   6.14500000e+03],\n",
       "       [  4.00000000e+00,   5.88300000e+03],\n",
       "       [  5.00000000e+00,   5.41800000e+03],\n",
       "       [  6.00000000e+00,   5.85900000e+03],\n",
       "       [  7.00000000e+00,   6.23800000e+03],\n",
       "       [  8.00000000e+00,   5.81600000e+03],\n",
       "       [  9.00000000e+00,   5.95400000e+03]])"
      ]
     },
     "execution_count": 30,
     "metadata": {},
     "output_type": "execute_result"
    }
   ],
   "source": [
    "X = X[permutation]\n",
    "y = y[permutation]\n",
    "\n",
    "m_training = 60000\n",
    "\n",
    "X_train, X_test = X[:m_training], X[m_training:]\n",
    "y_train, y_test = y[:m_training], y[m_training:]\n",
    "\n",
    "print(\"Labels and frequencies in training dataset: \")\n",
    "sp.stats.itemfreq(y_train)"
   ]
  },
  {
   "cell_type": "markdown",
   "metadata": {},
   "source": [
    "Let's try to use SVM with parameters obtained from the best model for m_training = 500 (using the new, larger training dataset to fit the model) Since it may take a long time to run, you can decide to just let it run for some time and stop it if it does not complete. If you decide to do this, report it in the last TO DO cell below."
   ]
  },
  {
   "cell_type": "code",
   "execution_count": 36,
   "metadata": {},
   "outputs": [
    {
     "name": "stdout",
     "output_type": "stream",
     "text": [
      "Best SVM training error: 0.098033\n",
      "Best SVM test error: 0.104600\n"
     ]
    }
   ],
   "source": [
    "# get training and test error for the best SVM model from CV\n",
    "parameters_SVM_large = best_parameters\n",
    "parameters_SVM_large['max_iter'] = 50 # since it takes too long, I set an upper bound to the number of iterations\n",
    "best_SVM_large = SVC(**parameters_SVM_large)\n",
    "best_SVM_large.fit(X_train, y_train)\n",
    "\n",
    "training_error = 1. - best_SVM_large.score(X_train, y_train)\n",
    "test_error = 1. - best_SVM_large.score(X_test, y_test)\n",
    "\n",
    "svm_or_lr = {'svm': test_error} # I'll use it later to choose between SVM or LR\n",
    "\n",
    "print (\"Best SVM training error: %f\" % training_error)\n",
    "print (\"Best SVM test error: %f\" % test_error)"
   ]
  },
  {
   "cell_type": "markdown",
   "metadata": {},
   "source": [
    "Just for comparison, since it may not be possible to learn a SVM, let's also use logistic regression (with standard parameters from scikit-learn, i.e. some regularization is included)."
   ]
  },
  {
   "cell_type": "code",
   "execution_count": 37,
   "metadata": {},
   "outputs": [
    {
     "name": "stdout",
     "output_type": "stream",
     "text": [
      "Best logistic regression training error: 0.071900\n",
      "Best logistic regression test error: 0.081300\n"
     ]
    }
   ],
   "source": [
    "from sklearn import linear_model\n",
    "\n",
    "logistic_regression_large = linear_model.LogisticRegression()\n",
    "logistic_regression_large.fit(X_train, y_train)\n",
    "\n",
    "training_error = 1. - logistic_regression_large.score(X_train, y_train)\n",
    "test_error = 1. - logistic_regression_large.score(X_test, y_test)\n",
    "\n",
    "svm_or_lr['lr'] = test_error # I'll use it later to choose between SVM or LR\n",
    "\n",
    "print (\"Best logistic regression training error: %f\" % training_error)\n",
    "print (\"Best logistic regression test error: %f\" % test_error)"
   ]
  },
  {
   "cell_type": "markdown",
   "metadata": {},
   "source": [
    "Now instead we learn NNs. Below we report the same architectures as before, feel free to try more different ones if you want, or less if it takes too much time. Describe you decisions below. (We suggest that you use 'verbose=True' so have an idea of how long it takes to run 1 iteration.)"
   ]
  },
  {
   "cell_type": "code",
   "execution_count": 38,
   "metadata": {},
   "outputs": [
    {
     "name": "stdout",
     "output_type": "stream",
     "text": [
      "Iteration 1, loss = 0.52256385\n",
      "Iteration 2, loss = 0.34114339\n",
      "Iteration 3, loss = 0.31589998\n",
      "Iteration 4, loss = 0.28745057\n",
      "Iteration 5, loss = 0.27874590\n",
      "Iteration 6, loss = 0.27030788\n",
      "Iteration 7, loss = 0.26619926\n",
      "Iteration 8, loss = 0.26115764\n",
      "Iteration 9, loss = 0.25870638\n",
      "Iteration 10, loss = 0.25791131\n",
      "Iteration 11, loss = 0.25243006\n",
      "Iteration 12, loss = 0.25002025\n",
      "Iteration 13, loss = 0.24733372\n",
      "Iteration 14, loss = 0.24629462\n",
      "Iteration 15, loss = 0.24403880\n",
      "Iteration 16, loss = 0.24095343\n",
      "Iteration 17, loss = 0.24045521\n",
      "Iteration 18, loss = 0.24016071\n",
      "Iteration 19, loss = 0.23924963\n",
      "Iteration 20, loss = 0.23800554\n",
      "Iteration 1, loss = 0.52290915\n",
      "Iteration 2, loss = 0.34276639\n",
      "Iteration 3, loss = 0.32518576\n",
      "Iteration 4, loss = 0.31292321\n",
      "Iteration 5, loss = 0.30506484\n",
      "Iteration 6, loss = 0.30018876\n",
      "Iteration 7, loss = 0.29539296\n",
      "Iteration 8, loss = 0.29100992\n",
      "Iteration 9, loss = 0.28677965\n",
      "Iteration 10, loss = 0.28331260\n",
      "Iteration 11, loss = 0.28022081\n",
      "Iteration 12, loss = 0.27910549\n",
      "Iteration 13, loss = 0.27669331\n",
      "Iteration 14, loss = 0.27513305\n",
      "Iteration 15, loss = 0.27236472\n",
      "Iteration 16, loss = 0.27041063\n",
      "Iteration 17, loss = 0.26951028\n",
      "Iteration 18, loss = 0.26953526\n",
      "Iteration 19, loss = 0.26741356\n",
      "Iteration 20, loss = 0.26743701\n",
      "Iteration 1, loss = 0.52142762\n",
      "Iteration 2, loss = 0.33762996\n",
      "Iteration 3, loss = 0.30771394\n",
      "Iteration 4, loss = 0.28407982\n",
      "Iteration 5, loss = 0.27121200\n",
      "Iteration 6, loss = 0.26632908\n",
      "Iteration 7, loss = 0.26180876\n",
      "Iteration 8, loss = 0.25975402\n",
      "Iteration 9, loss = 0.25520963\n",
      "Iteration 10, loss = 0.25114132\n",
      "Iteration 11, loss = 0.24932437\n",
      "Iteration 12, loss = 0.24934984\n",
      "Iteration 13, loss = 0.24576362\n",
      "Iteration 14, loss = 0.24327692\n",
      "Iteration 15, loss = 0.24320045\n",
      "Iteration 16, loss = 0.24059708\n",
      "Iteration 17, loss = 0.24031681\n",
      "Iteration 18, loss = 0.23805085\n",
      "Iteration 19, loss = 0.23778270\n",
      "Iteration 20, loss = 0.23536063\n",
      "Iteration 1, loss = 0.51101734\n",
      "Iteration 2, loss = 0.31885129\n",
      "Iteration 3, loss = 0.29614800\n",
      "Iteration 4, loss = 0.27876722\n",
      "Iteration 5, loss = 0.27259571\n",
      "Iteration 6, loss = 0.26471284\n",
      "Iteration 7, loss = 0.25915746\n",
      "Iteration 8, loss = 0.25564999\n",
      "Iteration 9, loss = 0.25150564\n",
      "Iteration 10, loss = 0.24969174\n",
      "Iteration 11, loss = 0.25328978\n",
      "Iteration 12, loss = 0.24410416\n",
      "Iteration 13, loss = 0.23972854\n",
      "Iteration 14, loss = 0.23709308\n",
      "Iteration 15, loss = 0.25820735\n",
      "Iteration 16, loss = 0.28074922\n",
      "Iteration 17, loss = 0.24493638\n",
      "Training loss did not improve more than tol=0.000100 for two consecutive epochs. Stopping.\n",
      "Iteration 1, loss = 0.54172980\n",
      "Iteration 2, loss = 0.34117631\n",
      "Iteration 3, loss = 0.33690460\n",
      "Iteration 4, loss = 0.28073888\n",
      "Iteration 5, loss = 0.29476674\n",
      "Iteration 6, loss = 0.26735572\n",
      "Iteration 7, loss = 0.26593564\n",
      "Iteration 8, loss = 0.26153990\n",
      "Iteration 9, loss = 0.27872334\n",
      "Iteration 10, loss = 0.25520457\n",
      "Iteration 11, loss = 0.25326121\n",
      "Iteration 12, loss = 0.25051691\n",
      "Iteration 13, loss = 0.25908226\n",
      "Iteration 14, loss = 0.24954137\n",
      "Iteration 15, loss = 0.24894196\n",
      "Iteration 16, loss = 0.24301675\n",
      "Iteration 17, loss = 0.24606035\n",
      "Iteration 18, loss = 0.25009318\n",
      "Iteration 19, loss = 0.24067877\n",
      "Iteration 20, loss = 0.23958807\n",
      "Iteration 1, loss = 0.35581102\n",
      "Iteration 2, loss = 0.16523123\n",
      "Iteration 3, loss = 0.12253064\n",
      "Iteration 4, loss = 0.09940834\n",
      "Iteration 5, loss = 0.08682097\n",
      "Iteration 6, loss = 0.07501155\n",
      "Iteration 7, loss = 0.06524059\n",
      "Iteration 8, loss = 0.05751745\n",
      "Iteration 9, loss = 0.05286748\n",
      "Iteration 10, loss = 0.04664619\n",
      "Iteration 11, loss = 0.04256936\n",
      "Iteration 12, loss = 0.03820740\n",
      "Iteration 13, loss = 0.03497715\n",
      "Iteration 14, loss = 0.03047577\n",
      "Iteration 15, loss = 0.02797894\n",
      "Iteration 16, loss = 0.02465186\n",
      "Iteration 17, loss = 0.02226879\n",
      "Iteration 18, loss = 0.02000168\n",
      "Iteration 19, loss = 0.01831646\n",
      "Iteration 20, loss = 0.01666060\n",
      "Iteration 1, loss = 0.35603828\n",
      "Iteration 2, loss = 0.16512750\n",
      "Iteration 3, loss = 0.12110118\n",
      "Iteration 4, loss = 0.09599859\n",
      "Iteration 5, loss = 0.08090411\n",
      "Iteration 6, loss = 0.06932984\n",
      "Iteration 7, loss = 0.06124137\n",
      "Iteration 8, loss = 0.05339322\n",
      "Iteration 9, loss = 0.04740650\n",
      "Iteration 10, loss = 0.04178129\n",
      "Iteration 11, loss = 0.03714699\n",
      "Iteration 12, loss = 0.03343562\n",
      "Iteration 13, loss = 0.03047423\n",
      "Iteration 14, loss = 0.02636469\n",
      "Iteration 15, loss = 0.02402124\n",
      "Iteration 16, loss = 0.02127784\n",
      "Iteration 17, loss = 0.01802771\n",
      "Iteration 18, loss = 0.01580796\n",
      "Iteration 19, loss = 0.01381199\n",
      "Iteration 20, loss = 0.01330004\n",
      "Iteration 1, loss = 0.35116071\n",
      "Iteration 2, loss = 0.16477890\n",
      "Iteration 3, loss = 0.12376307\n",
      "Iteration 4, loss = 0.09935379\n",
      "Iteration 5, loss = 0.08325183\n",
      "Iteration 6, loss = 0.07169091\n",
      "Iteration 7, loss = 0.06220497\n",
      "Iteration 8, loss = 0.05316908\n",
      "Iteration 9, loss = 0.04735636\n",
      "Iteration 10, loss = 0.04218513\n",
      "Iteration 11, loss = 0.03817600\n",
      "Iteration 12, loss = 0.03318536\n",
      "Iteration 13, loss = 0.02913446\n",
      "Iteration 14, loss = 0.02806567\n",
      "Iteration 15, loss = 0.02388778\n",
      "Iteration 16, loss = 0.02064534\n",
      "Iteration 17, loss = 0.01801984\n",
      "Iteration 18, loss = 0.01543519\n",
      "Iteration 19, loss = 0.01368696\n",
      "Iteration 20, loss = 0.01390461\n",
      "Iteration 1, loss = 0.35306169\n",
      "Iteration 2, loss = 0.16389323\n",
      "Iteration 3, loss = 0.12264431\n",
      "Iteration 4, loss = 0.09754611\n",
      "Iteration 5, loss = 0.08650543\n",
      "Iteration 6, loss = 0.07174364\n",
      "Iteration 7, loss = 0.06200411\n",
      "Iteration 8, loss = 0.05403166\n",
      "Iteration 9, loss = 0.04897730\n",
      "Iteration 10, loss = 0.04264902\n",
      "Iteration 11, loss = 0.03924899\n",
      "Iteration 12, loss = 0.03547872\n",
      "Iteration 13, loss = 0.03113034\n",
      "Iteration 14, loss = 0.02812446\n",
      "Iteration 15, loss = 0.02636367\n",
      "Iteration 16, loss = 0.02253130\n",
      "Iteration 17, loss = 0.01989809\n",
      "Iteration 18, loss = 0.01743638\n",
      "Iteration 19, loss = 0.01575490\n",
      "Iteration 20, loss = 0.01369369\n",
      "Iteration 1, loss = 0.36143747\n",
      "Iteration 2, loss = 0.17614454\n",
      "Iteration 3, loss = 0.12794128\n",
      "Iteration 4, loss = 0.10162080\n",
      "Iteration 5, loss = 0.08470979\n",
      "Iteration 6, loss = 0.07473355\n",
      "Iteration 7, loss = 0.06907791\n",
      "Iteration 8, loss = 0.05863646\n",
      "Iteration 9, loss = 0.05181090\n",
      "Iteration 10, loss = 0.04640361\n",
      "Iteration 11, loss = 0.04119469\n",
      "Iteration 12, loss = 0.03556377\n",
      "Iteration 13, loss = 0.03410550\n",
      "Iteration 14, loss = 0.02981860\n",
      "Iteration 15, loss = 0.02644627\n",
      "Iteration 16, loss = 0.02438244\n",
      "Iteration 17, loss = 0.02146432\n",
      "Iteration 18, loss = 0.01858842\n",
      "Iteration 19, loss = 0.01634811\n",
      "Iteration 20, loss = 0.01414279\n",
      "Iteration 1, loss = 0.56355924\n",
      "Iteration 2, loss = 0.30050753\n",
      "Iteration 3, loss = 0.27570445\n",
      "Iteration 4, loss = 0.26371950\n",
      "Iteration 5, loss = 0.25228555\n",
      "Iteration 6, loss = 0.24517090\n",
      "Iteration 7, loss = 0.23525089\n",
      "Iteration 8, loss = 0.23202310\n",
      "Iteration 9, loss = 0.22857568\n",
      "Iteration 10, loss = 0.22370208\n",
      "Iteration 11, loss = 0.21876354\n",
      "Iteration 12, loss = 0.21726314\n",
      "Iteration 13, loss = 0.21263005\n",
      "Iteration 14, loss = 0.20851581\n",
      "Iteration 15, loss = 0.20702183\n",
      "Iteration 16, loss = 0.20399273\n",
      "Iteration 17, loss = 0.20311896\n",
      "Iteration 18, loss = 0.20138322\n",
      "Iteration 19, loss = 0.19884633\n",
      "Iteration 20, loss = 0.19626397\n",
      "Iteration 1, loss = 0.56032742\n",
      "Iteration 2, loss = 0.28970362\n",
      "Iteration 3, loss = 0.24941093\n",
      "Iteration 4, loss = 0.23054159\n",
      "Iteration 5, loss = 0.22231629\n",
      "Iteration 6, loss = 0.20965695\n",
      "Iteration 7, loss = 0.20548138\n",
      "Iteration 8, loss = 0.20116879\n",
      "Iteration 9, loss = 0.19466983\n",
      "Iteration 10, loss = 0.19458784\n",
      "Iteration 11, loss = 0.19005269\n",
      "Iteration 12, loss = 0.18761464\n",
      "Iteration 13, loss = 0.18344672\n",
      "Iteration 14, loss = 0.18166413\n",
      "Iteration 15, loss = 0.18059951\n",
      "Iteration 16, loss = 0.17732543\n",
      "Iteration 17, loss = 0.17354898\n",
      "Iteration 18, loss = 0.17192863\n",
      "Iteration 19, loss = 0.17332580\n",
      "Iteration 20, loss = 0.17249989\n",
      "Iteration 1, loss = 0.57302990\n",
      "Iteration 2, loss = 0.29656400\n",
      "Iteration 3, loss = 0.26698807\n",
      "Iteration 4, loss = 0.24655407\n",
      "Iteration 5, loss = 0.23715516\n",
      "Iteration 6, loss = 0.22941478\n",
      "Iteration 7, loss = 0.21896675\n",
      "Iteration 8, loss = 0.21594348\n",
      "Iteration 9, loss = 0.20590660\n",
      "Iteration 10, loss = 0.20439452\n",
      "Iteration 11, loss = 0.20291431\n",
      "Iteration 12, loss = 0.19800824\n",
      "Iteration 13, loss = 0.19549068\n",
      "Iteration 14, loss = 0.19377665\n",
      "Iteration 15, loss = 0.19429252\n",
      "Iteration 16, loss = 0.18807027\n",
      "Iteration 17, loss = 0.18531082\n",
      "Iteration 18, loss = 0.18766496\n",
      "Iteration 19, loss = 0.18566379\n",
      "Iteration 20, loss = 0.18471197\n"
     ]
    },
    {
     "name": "stdout",
     "output_type": "stream",
     "text": [
      "Iteration 1, loss = 0.55278153\n",
      "Iteration 2, loss = 0.28113118\n",
      "Iteration 3, loss = 0.25236253\n",
      "Iteration 4, loss = 0.23820928\n",
      "Iteration 5, loss = 0.28619170\n",
      "Iteration 6, loss = 0.22292058\n",
      "Iteration 7, loss = 0.63944969\n",
      "Iteration 8, loss = 0.35482306\n",
      "Iteration 9, loss = 0.47275501\n",
      "Training loss did not improve more than tol=0.000100 for two consecutive epochs. Stopping.\n",
      "Iteration 1, loss = 0.56110634\n",
      "Iteration 2, loss = 0.27086187\n",
      "Iteration 3, loss = 0.33354375\n",
      "Iteration 4, loss = 0.24665554\n",
      "Iteration 5, loss = 0.24153247\n",
      "Iteration 6, loss = 0.25716592\n",
      "Iteration 7, loss = 0.21902377\n",
      "Iteration 8, loss = 0.21008423\n",
      "Iteration 9, loss = 0.20409173\n",
      "Iteration 10, loss = 0.22549260\n",
      "Iteration 11, loss = 0.19479912\n",
      "Iteration 12, loss = 0.19303428\n",
      "Iteration 13, loss = 0.19012974\n",
      "Iteration 14, loss = 0.18655673\n",
      "Iteration 15, loss = 0.18256260\n",
      "Iteration 16, loss = 0.18233091\n",
      "Iteration 17, loss = 0.22705545\n",
      "Iteration 18, loss = 0.18387029\n",
      "Iteration 19, loss = 0.18199129\n",
      "Iteration 20, loss = 0.18717025\n",
      "Iteration 1, loss = 0.34126923\n",
      "Iteration 2, loss = 0.14106596\n",
      "Iteration 3, loss = 0.10863100\n",
      "Iteration 4, loss = 0.09049870\n",
      "Iteration 5, loss = 0.07458603\n",
      "Iteration 6, loss = 0.06383651\n",
      "Iteration 7, loss = 0.05489282\n",
      "Iteration 8, loss = 0.05160220\n",
      "Iteration 9, loss = 0.04578838\n",
      "Iteration 10, loss = 0.03919495\n",
      "Iteration 11, loss = 0.03759845\n",
      "Iteration 12, loss = 0.03542775\n",
      "Iteration 13, loss = 0.02951086\n",
      "Iteration 14, loss = 0.03146109\n",
      "Iteration 15, loss = 0.02859219\n",
      "Iteration 16, loss = 0.02749276\n",
      "Iteration 17, loss = 0.02228806\n",
      "Iteration 18, loss = 0.02271698\n",
      "Iteration 19, loss = 0.01866011\n",
      "Iteration 20, loss = 0.01845294\n",
      "Iteration 1, loss = 0.34491469\n",
      "Iteration 2, loss = 0.13675292\n",
      "Iteration 3, loss = 0.10274984\n",
      "Iteration 4, loss = 0.08136811\n",
      "Iteration 5, loss = 0.06933750\n",
      "Iteration 6, loss = 0.05940358\n",
      "Iteration 7, loss = 0.05087462\n",
      "Iteration 8, loss = 0.04566974\n",
      "Iteration 9, loss = 0.04127861\n",
      "Iteration 10, loss = 0.03738845\n",
      "Iteration 11, loss = 0.03710707\n",
      "Iteration 12, loss = 0.03048123\n",
      "Iteration 13, loss = 0.02642311\n",
      "Iteration 14, loss = 0.02802942\n",
      "Iteration 15, loss = 0.02611715\n",
      "Iteration 16, loss = 0.02080488\n",
      "Iteration 17, loss = 0.02404455\n",
      "Iteration 18, loss = 0.02100228\n",
      "Iteration 19, loss = 0.01823479\n",
      "Iteration 20, loss = 0.02130245\n",
      "Iteration 1, loss = 0.35451881\n",
      "Iteration 2, loss = 0.13669896\n",
      "Iteration 3, loss = 0.10404620\n",
      "Iteration 4, loss = 0.08410747\n",
      "Iteration 5, loss = 0.07318854\n",
      "Iteration 6, loss = 0.06248125\n",
      "Iteration 7, loss = 0.05561420\n",
      "Iteration 8, loss = 0.05005054\n",
      "Iteration 9, loss = 0.04433262\n",
      "Iteration 10, loss = 0.03982166\n",
      "Iteration 11, loss = 0.03304217\n",
      "Iteration 12, loss = 0.03205780\n",
      "Iteration 13, loss = 0.02908183\n",
      "Iteration 14, loss = 0.02722036\n",
      "Iteration 15, loss = 0.02657835\n",
      "Iteration 16, loss = 0.02593097\n",
      "Iteration 17, loss = 0.02538093\n",
      "Iteration 18, loss = 0.02375208\n",
      "Iteration 19, loss = 0.01872001\n",
      "Iteration 20, loss = 0.02053213\n",
      "Iteration 1, loss = 0.33951772\n",
      "Iteration 2, loss = 0.13727194\n",
      "Iteration 3, loss = 0.10293730\n",
      "Iteration 4, loss = 0.08773452\n",
      "Iteration 5, loss = 0.07095824\n",
      "Iteration 6, loss = 0.06180785\n",
      "Iteration 7, loss = 0.05520991\n",
      "Iteration 8, loss = 0.04901658\n",
      "Iteration 9, loss = 0.04419018\n",
      "Iteration 10, loss = 0.04029643\n",
      "Iteration 11, loss = 0.03734581\n",
      "Iteration 12, loss = 0.02945566\n",
      "Iteration 13, loss = 0.02835677\n",
      "Iteration 14, loss = 0.02600738\n",
      "Iteration 15, loss = 0.02334003\n",
      "Iteration 16, loss = 0.19019276\n",
      "Iteration 17, loss = 0.07249722\n",
      "Iteration 18, loss = 0.05755432\n",
      "Training loss did not improve more than tol=0.000100 for two consecutive epochs. Stopping.\n",
      "Iteration 1, loss = 0.34236467\n",
      "Iteration 2, loss = 0.13933641\n",
      "Iteration 3, loss = 0.10772213\n",
      "Iteration 4, loss = 0.09363879\n",
      "Iteration 5, loss = 0.07168426\n",
      "Iteration 6, loss = 0.06125527\n",
      "Iteration 7, loss = 0.05644705\n",
      "Iteration 8, loss = 0.04697108\n",
      "Iteration 9, loss = 0.04298009\n",
      "Iteration 10, loss = 0.03807363\n",
      "Iteration 11, loss = 0.03186969\n",
      "Iteration 12, loss = 0.03197412\n",
      "Iteration 13, loss = 0.07019967\n",
      "Iteration 14, loss = 0.03795037\n",
      "Training loss did not improve more than tol=0.000100 for two consecutive epochs. Stopping.\n",
      "Iteration 1, loss = 0.32075588\n",
      "Iteration 2, loss = 0.14371505\n",
      "Iteration 3, loss = 0.10497255\n",
      "Iteration 4, loss = 0.08706503\n",
      "Iteration 5, loss = 0.07425768\n",
      "Iteration 6, loss = 0.06405363\n",
      "Iteration 7, loss = 0.05640603\n",
      "Iteration 8, loss = 0.05108043\n",
      "Iteration 9, loss = 0.04559623\n",
      "Iteration 10, loss = 0.04158197\n",
      "Iteration 11, loss = 0.03505335\n",
      "Iteration 12, loss = 0.03281433\n",
      "Iteration 13, loss = 0.02868126\n",
      "Iteration 14, loss = 0.02571878\n",
      "Iteration 15, loss = 0.02355611\n",
      "Iteration 16, loss = 0.02069391\n",
      "Iteration 17, loss = 0.01820300\n",
      "Iteration 18, loss = 0.01576821\n",
      "Iteration 19, loss = 0.01395867\n",
      "Iteration 20, loss = 0.01334809\n",
      "\n",
      "RESULTS FOR NN\n",
      "\n",
      "Best parameters set found:\n",
      "{'hidden_layer_sizes': (50,)}\n",
      "Score with best parameters:\n",
      "0.970833333333\n",
      "\n",
      "All scores on the grid:\n",
      "[ 0.91263333  0.97083333  0.92371667  0.96851667]\n"
     ]
    }
   ],
   "source": [
    "# for NN we try the same architectures as before\n",
    "# Since it takes too long for all architectures, I remove two of them.\n",
    "parameters_nn_large = {'max_iter': 20, 'alpha': 1e-4, 'hidden_layer_sizes': [(50,), (10,10,)], \n",
    "                       'solver': 'sgd', 'tol': 1e-4, 'random_state': ID, 'learning_rate_init': .1, 'verbose': True}\n",
    "mlp_large = MLPClassifier(**parameters_nn_large)\n",
    "\n",
    "mlp_large_CV = GridSearchCV(mlp, parameters, cv=5)\n",
    "mlp_large_CV.fit(X_train, y_train) \n",
    "\n",
    "print ('\\nRESULTS FOR NN\\n')\n",
    "print(\"Best parameters set found:\")\n",
    "print(mlp_large_CV.best_params_)\n",
    "print(\"Score with best parameters:\")\n",
    "print(mlp_large_CV.best_score_)\n",
    "print(\"\\nAll scores on the grid:\")\n",
    "print(mlp_large_CV.cv_results_['mean_test_score'])"
   ]
  },
  {
   "cell_type": "markdown",
   "metadata": {},
   "source": [
    "Now get training and test error for a NN with best parameters from above. Use verbose=True\n",
    "in input so to see how loss changes in iterations (see how this changs if the number of iterations is changed)"
   ]
  },
  {
   "cell_type": "code",
   "execution_count": 39,
   "metadata": {},
   "outputs": [
    {
     "name": "stdout",
     "output_type": "stream",
     "text": [
      "Iteration 1, loss = 0.32075588\n",
      "Iteration 2, loss = 0.14371505\n",
      "Iteration 3, loss = 0.10497255\n",
      "Iteration 4, loss = 0.08706503\n",
      "Iteration 5, loss = 0.07425768\n",
      "Iteration 6, loss = 0.06405363\n",
      "Iteration 7, loss = 0.05640603\n",
      "Iteration 8, loss = 0.05108043\n",
      "Iteration 9, loss = 0.04559623\n",
      "Iteration 10, loss = 0.04158197\n",
      "Iteration 11, loss = 0.03505335\n",
      "Iteration 12, loss = 0.03281433\n",
      "Iteration 13, loss = 0.02868126\n",
      "Iteration 14, loss = 0.02571878\n",
      "Iteration 15, loss = 0.02355611\n",
      "Iteration 16, loss = 0.02069391\n",
      "Iteration 17, loss = 0.01820300\n",
      "Iteration 18, loss = 0.01576821\n",
      "Iteration 19, loss = 0.01395867\n",
      "Iteration 20, loss = 0.01334809\n",
      "\n",
      "RESULTS FOR BEST NN\n",
      "\n",
      "Best NN training error: 0.002067\n",
      "Best NN test error: 0.025700\n"
     ]
    }
   ],
   "source": [
    "# get training and test error for the best NN model from CV\n",
    "best_parameters_mpl_large = {'max_iter': 20, 'alpha': 1e-4, 'solver': 'sgd', 'tol': 1e-4, \n",
    "                             'random_state': ID, 'learning_rate_init': .1, 'verbose': True}\n",
    "best_parameters_mpl_large['hidden_layer_sizes'] = mlp_large_CV.best_params_['hidden_layer_sizes']\n",
    "best_mlp_large = MLPClassifier(**best_parameters_mpl_large)\n",
    "best_mlp_large.fit(X_train, y_train)\n",
    "\n",
    "training_error = 1. - best_mlp_large.score(X_train, y_train)\n",
    "test_error = 1. - best_mlp_large.score(X_test, y_test)\n",
    "\n",
    "print ('\\nRESULTS FOR BEST NN\\n')\n",
    "print (\"Best NN training error: %f\" % training_error)\n",
    "print (\"Best NN test error: %f\" % test_error)"
   ]
  },
  {
   "cell_type": "markdown",
   "metadata": {},
   "source": [
    "## TO DO 8 \n",
    "\n",
    "Compare and discuss:\n",
    "- the results from standard SVM and NN with m=60000 training data points. If you stopped the standard SVM (because it was running for too long), include such aspect in your comparison. Compare also with the results of logistic regression as well.\n",
    "- the results from NN with m=500 and m=60000 training data points.\n",
    "\n",
    "### ANSWER\n",
    "First of all, I limited the number of iteration of SVM at 50 and reduced the number of architectures for CV of NN at two, otherwise the code it would take a really long time to run. With 50 iterations the block of code regarding SVM runs in at least 5 minutes on my PC. Logistic regression takes 5 minutes as well. The CV for NN with two architectures takes 5 minutes.\n",
    "\n",
    "The results above tell us that NN with 60000 training points score better than the standard SVM (and logistic regression), both on training and test error. Also, LR performs slightly better than SVM. As said before, since I set an upper bound on the number of iterations, it is possible that SVM did not converge to the optimal solution. \n",
    "\n",
    "Both NN for 500 and 60000 training data points achieve better results than regular SVM. Coincidentally, the architecture is the same, however two architectures were not available for CV for NN with 60000 data points. The NN with 60000 data points achieves a better test error than the NN with 500 data points. Since the training error is the same for both NNs, the test error could be influenced by the fact that the test set for the first NN is really large compared to the one for the second NN and so it could be more likely that more points are missclassified (or it would just perform worse)."
   ]
  },
  {
   "cell_type": "markdown",
   "metadata": {},
   "source": [
    "## TO DO 9 \n",
    "Plot (using function $plot\\_digit$ from above)  a digit that is missclassified by SVM or logistic regression and correctly classified by NN."
   ]
  },
  {
   "cell_type": "code",
   "execution_count": 41,
   "metadata": {},
   "outputs": [
    {
     "name": "stdout",
     "output_type": "stream",
     "text": [
      "INPUT:\n"
     ]
    },
    {
     "data": {
      "image/png": "[encoded data removed]",
      "text/plain": [
       "<matplotlib.figure.Figure at 0x7f306d456410>"
      ]
     },
     "metadata": {},
     "output_type": "display_data"
    },
    {
     "name": "stdout",
     "output_type": "stream",
     "text": [
      "LABEL: 9\n",
      "('Logistic regression prediction: ', 4.0)\n",
      "('NN prediction: ', 9.0)\n"
     ]
    }
   ],
   "source": [
    "if svm_or_lr['svm'] > svm_or_lr['lr']:\n",
    "    lr_svm_prediction = best_SVM_large.predict(X_test)\n",
    "else:\n",
    "    lr_svm_prediction = logistic_regression_large.predict(X_test)\n",
    "large_NN_prediction = best_mlp_large.predict(X_test)\n",
    "i = 0\n",
    "found = False\n",
    "while ((not found) and (i<len(y_test))):\n",
    "    if (lr_svm_prediction[i] != y_test[i]) and (large_NN_prediction[i] == y_test[i]):\n",
    "        plot_digit(X_test, y_test, i)\n",
    "        print(\"Logistic regression prediction: \", lr_svm_prediction[i])\n",
    "        print(\"NN prediction: \", large_NN_prediction[i])\n",
    "        found = True\n",
    "    else:\n",
    "        i += 1"
   ]
  },
  {
   "cell_type": "markdown",
   "metadata": {},
   "source": [
    "## TO DO 10\n",
    "Plot (using function $plot\\_digit$ from above)  a digit that was missclassified by NN with m=500 training data points and it is now instead correctly classified by NN with m=60000 training data points."
   ]
  },
  {
   "cell_type": "code",
   "execution_count": 42,
   "metadata": {},
   "outputs": [
    {
     "name": "stdout",
     "output_type": "stream",
     "text": [
      "INPUT:\n"
     ]
    },
    {
     "data": {
      "image/png": "[encoded data removed]",
      "text/plain": [
       "<matplotlib.figure.Figure at 0x7f306014db10>"
      ]
     },
     "metadata": {},
     "output_type": "display_data"
    },
    {
     "name": "stdout",
     "output_type": "stream",
     "text": [
      "LABEL: 8\n",
      "('NN prediction with training set size of 500: ', 3.0)\n",
      "('NN prediction with training set size of 60000: ', 8.0)\n"
     ]
    }
   ],
   "source": [
    "NN_prediction = mlp.predict(X_test)\n",
    "i = 0\n",
    "found = False\n",
    "while ((not found) and (i<len(y_test))):\n",
    "    if (NN_prediction[i] != y_test[i]) and (large_NN_prediction[i] == y_test[i]):\n",
    "        plot_digit(X_test, y_test, i)\n",
    "        print(\"NN prediction with training set size of 500: \", NN_prediction[i])\n",
    "        print(\"NN prediction with training set size of 60000: \", large_NN_prediction[i])\n",
    "        found = True\n",
    "    else:\n",
    "        i += 1"
   ]
  },
  {
   "cell_type": "code",
   "execution_count": null,
   "metadata": {
    "collapsed": true
   },
   "outputs": [],
   "source": []
  }
 ],
 "metadata": {
  "anaconda-cloud": {},
  "kernelspec": {
   "display_name": "Python 2",
   "language": "python",
   "name": "python2"
  },
  "language_info": {
   "codemirror_mode": {
    "name": "ipython",
    "version": 2
   },
   "file_extension": ".py",
   "mimetype": "text/x-python",
   "name": "python",
   "nbconvert_exporter": "python",
   "pygments_lexer": "ipython2",
   "version": "2.7.13"
  }
 },
 "nbformat": 4,
 "nbformat_minor": 2
}
